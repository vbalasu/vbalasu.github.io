{
 "cells": [
  {
   "cell_type": "markdown",
   "metadata": {},
   "source": [
    "# Tourist or Resident Perspective\n",
    "\n",
    "In this notebook, we will analyze the taxi data from the perspective of a tourist or resident who wants to explore interesting parts of the city.\n",
    "\n",
    "Taxi dropoffs are used as a proxy for the \"popularity\" of a given location. We will rank-order the taxi zones contained in the data by popularity at various times of the day and week.\n",
    "\n",
    "Then, we will use machine learning to discover hotspots of activity. This will be achieved by applying a clustering algorithm (unsupervised learning) to Latitude and Longitude information contained in the data."
   ]
  },
  {
   "cell_type": "code",
   "execution_count": 1,
   "metadata": {
    "collapsed": false
   },
   "outputs": [
    {
     "name": "stdout",
     "output_type": "stream",
     "text": [
      "Wall time: 1.22 s\n"
     ]
    }
   ],
   "source": [
    "%%time\n",
    "#We will import the necessary Python libraries in this step. The %%time command keeps track of the execution time\n",
    "import sqlite3         # Provides powerful relational database query capabilities using the SQL language\n",
    "import pandas as pd    # Pandas provides a powerful DataFrame to manipulate and analyze tabular data"
   ]
  },
  {
   "cell_type": "code",
   "execution_count": 12,
   "metadata": {
    "collapsed": false
   },
   "outputs": [
    {
     "name": "stdout",
     "output_type": "stream",
     "text": [
      "Wall time: 3.01 ms\n"
     ]
    }
   ],
   "source": [
    "%%time\n",
    "#We connect to a SQLite database. This database was prepared using the notebook \"00 Prepare Taxi Trip Data\"\n",
    "#Examine the contents of this database by looking at the sqlite_master table\n",
    "cn = sqlite3.connect('taxiJul.db')\n",
    "master = pd.read_sql_query(\"SELECT * from sqlite_master;\",cn)\n",
    "master"
   ]
  },
  {
   "cell_type": "code",
   "execution_count": null,
   "metadata": {
    "collapsed": true
   },
   "outputs": [],
   "source": []
  },
  {
   "cell_type": "markdown",
   "metadata": {},
   "source": []
  },
  {
   "cell_type": "code",
   "execution_count": 10,
   "metadata": {
    "collapsed": false
   },
   "outputs": [
    {
     "data": {
      "text/plain": [
       "Index(['VendorID', 'tpep_pickup_datetime', 'tpep_dropoff_datetime',\n",
       "       'passenger_count', 'trip_distance', 'pickup_longitude',\n",
       "       'pickup_latitude', 'RatecodeID', 'store_and_fwd_flag',\n",
       "       'dropoff_longitude', 'dropoff_latitude', 'payment_type', 'fare_amount',\n",
       "       'extra', 'mta_tax', 'tip_amount', 'tolls_amount',\n",
       "       'improvement_surcharge', 'total_amount', 'pickup_OBJECTID',\n",
       "       'pickup_Shape_Leng', 'pickup_Shape_Area', 'pickup_zone',\n",
       "       'pickup_LocationID', 'pickup_borough', 'dropoff_OBJECTID',\n",
       "       'dropoff_Shape_Leng', 'dropoff_Shape_Area', 'dropoff_zone',\n",
       "       'dropoff_Location', 'dropoff_borough', 'count', 'pu_year', 'pu_month',\n",
       "       'pu_day', 'pu_hour', 'pu_minute', 'pu_second', 'pu_weekday', 'do_year',\n",
       "       'do_month', 'do_day', 'do_hour', 'do_minute', 'do_second', 'do_weekday',\n",
       "       'pu_latlong'],\n",
       "      dtype='object')"
      ]
     },
     "execution_count": 10,
     "metadata": {},
     "output_type": "execute_result"
    }
   ],
   "source": [
    "#We are interested in the taxiJulEnrich view\n",
    "#Read the first row of this view to examine the columns available\n",
    "sample = pd.read_sql_query(\"SELECT * from taxiJulEnrich LIMIT 1;\",cn)\n",
    "sample.columns"
   ]
  },
  {
   "cell_type": "code",
   "execution_count": null,
   "metadata": {
    "collapsed": false
   },
   "outputs": [],
   "source": [
    "%%time\n",
    "#In this step, we read the SQLite\n",
    "df = pd.read_sql_query(\"SELECT *,CAST(`do_weekday` AS INTEGER) AS ndo_weekday FROM `01_tourist_resident`;\", cn)"
   ]
  },
  {
   "cell_type": "code",
   "execution_count": null,
   "metadata": {
    "collapsed": false
   },
   "outputs": [],
   "source": [
    "df.dtypes"
   ]
  },
  {
   "cell_type": "code",
   "execution_count": null,
   "metadata": {
    "collapsed": false
   },
   "outputs": [],
   "source": [
    "df.columns"
   ]
  },
  {
   "cell_type": "code",
   "execution_count": null,
   "metadata": {
    "collapsed": true
   },
   "outputs": [],
   "source": [
    "weekdays = pd.read_json('{\"weekday\":{\"0\":\"Sunday\",\"1\":\"Monday\",\"2\":\"Tuesday\",\"3\":\"Wednesday\",\"4\":\"Thursday\",\"5\":\"Friday\",\"6\":\"Saturday\"}}')"
   ]
  },
  {
   "cell_type": "code",
   "execution_count": null,
   "metadata": {
    "collapsed": false
   },
   "outputs": [],
   "source": [
    "weekdays"
   ]
  },
  {
   "cell_type": "code",
   "execution_count": null,
   "metadata": {
    "collapsed": false
   },
   "outputs": [],
   "source": [
    "merged = df.merge(weekdays,how='left',left_on='ndo_weekday',right_index=True)"
   ]
  },
  {
   "cell_type": "code",
   "execution_count": null,
   "metadata": {
    "collapsed": false
   },
   "outputs": [],
   "source": [
    "merged.dtypes"
   ]
  },
  {
   "cell_type": "code",
   "execution_count": null,
   "metadata": {
    "collapsed": false
   },
   "outputs": [],
   "source": [
    "%%time\n",
    "merged.to_csv('01_Tourist_Resident.csv', index_label='ROWID')\n",
    "#merged.to_excel('01_Tourist_Resident.xlsx',sheet_name='Data',index_label='ROWID')\n",
    "#weekdays.to_excel('01_Tourist_Resident.xlsx',sheet_name='Weekdays')"
   ]
  },
  {
   "cell_type": "code",
   "execution_count": null,
   "metadata": {
    "collapsed": true
   },
   "outputs": [],
   "source": [
    "?merged.to_csv"
   ]
  },
  {
   "cell_type": "code",
   "execution_count": null,
   "metadata": {
    "collapsed": false
   },
   "outputs": [],
   "source": [
    "%%time\n",
    "sample = pd.read_sql_query(\"SELECT * FROM taxiJulEnrich LIMIT 1000;\", cn);"
   ]
  },
  {
   "cell_type": "code",
   "execution_count": null,
   "metadata": {
    "collapsed": false
   },
   "outputs": [],
   "source": [
    "sample.columns"
   ]
  },
  {
   "cell_type": "code",
   "execution_count": null,
   "metadata": {
    "collapsed": false
   },
   "outputs": [],
   "source": [
    "minutes = sample[['pu_minute','tip_amount']]"
   ]
  },
  {
   "cell_type": "code",
   "execution_count": null,
   "metadata": {
    "collapsed": false
   },
   "outputs": [],
   "source": [
    "minutes"
   ]
  },
  {
   "cell_type": "code",
   "execution_count": null,
   "metadata": {
    "collapsed": false
   },
   "outputs": [],
   "source": [
    "counts"
   ]
  },
  {
   "cell_type": "code",
   "execution_count": null,
   "metadata": {
    "collapsed": false
   },
   "outputs": [],
   "source": [
    "n = counts[0]"
   ]
  }
 ],
 "metadata": {
  "kernelspec": {
   "display_name": "Python 3",
   "language": "python",
   "name": "python3"
  },
  "language_info": {
   "codemirror_mode": {
    "name": "ipython",
    "version": 3
   },
   "file_extension": ".py",
   "mimetype": "text/x-python",
   "name": "python",
   "nbconvert_exporter": "python",
   "pygments_lexer": "ipython3",
   "version": "3.6.0"
  }
 },
 "nbformat": 4,
 "nbformat_minor": 2
}
