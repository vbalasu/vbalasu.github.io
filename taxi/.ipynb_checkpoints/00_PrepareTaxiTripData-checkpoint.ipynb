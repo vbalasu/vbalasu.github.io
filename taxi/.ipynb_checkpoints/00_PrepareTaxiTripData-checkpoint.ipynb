{
 "cells": [
  {
   "cell_type": "markdown",
   "metadata": {},
   "source": [
    "# 0 Download And Prepare Taxi Trip Data\n",
    "\n",
    "We will start by downloading the data from the New York City Taxi and Limousine Commissions's website. For the purposes of our analysis, we have picked the yellow taxi trip data for July 2015. We specifically chose a 2015 data set because it contains individual dropoffs and pickups at the latitude/longitude level, which will come in handy in Step 3. Beginning in 2016, data is no longer provided at the latitude/longitude level."
   ]
  },
  {
   "cell_type": "code",
   "execution_count": 1,
   "metadata": {
    "collapsed": true
   },
   "outputs": [],
   "source": [
    "#The first step is to download and install wget.exe, which is a tool you can use to download subsequent data files\n",
    "#If you are running Windows, you can get Wget for Windows here: http://gnuwin32.sourceforge.net/packages/wget.htm\n",
    "#If you have MacOS or Linux, you should already have wget.exe"
   ]
  },
  {
   "cell_type": "code",
   "execution_count": null,
   "metadata": {
    "collapsed": false
   },
   "outputs": [],
   "source": [
    "#The next step is to download the taxi trip data using wget (installed in the previous step)\n",
    "!wget --continue https://s3.amazonaws.com/nyc-tlc/trip+data/yellow_tripdata_2015-07.csv\n",
    "!ren yellow_tripdata_2015-07.csv taxiJul.csv"
   ]
  },
  {
   "cell_type": "code",
   "execution_count": 3,
   "metadata": {
    "collapsed": false
   },
   "outputs": [
    {
     "name": "stdout",
     "output_type": "stream",
     "text": [
      "Wall time: 5.01 ms\n"
     ]
    }
   ],
   "source": [
    "%%time\n",
    "import pandas as pd\n",
    "sample = pd.read_csv('taxiJul.csv',nrows=10)\n",
    "sample.columns"
   ]
  },
  {
   "cell_type": "code",
   "execution_count": null,
   "metadata": {
    "collapsed": true
   },
   "outputs": [],
   "source": []
  },
  {
   "cell_type": "code",
   "execution_count": null,
   "metadata": {
    "collapsed": false
   },
   "outputs": [],
   "source": [
    "%%time\n",
    "#Create the table\n",
    "commands=\"\"\".mode csv\n",
    ".headers on\n",
    "DROP TABLE taxiJul;\n",
    "CREATE TABLE taxiJul(\n",
    "  \"VendorID\" TEXT,\n",
    "  \"tpep_pickup_datetime\" TEXT,\n",
    "  \"tpep_dropoff_datetime\" TEXT,\n",
    "  \"passenger_count\" NUMERIC,\n",
    "  \"trip_distance\" NUMERIC,\n",
    "  \"pickup_longitude\" TEXT,\n",
    "  \"pickup_latitude\" TEXT,\n",
    "  \"RatecodeID\" TEXT,\n",
    "  \"store_and_fwd_flag\" TEXT,\n",
    "  \"dropoff_longitude\" TEXT,\n",
    "  \"dropoff_latitude\" TEXT,\n",
    "  \"payment_type\" TEXT,\n",
    "  \"fare_amount\" NUMERIC,\n",
    "  \"extra\" NUMERIC,\n",
    "  \"mta_tax\" NUMERIC,\n",
    "  \"tip_amount\" NUMERIC,\n",
    "  \"tolls_amount\" NUMERIC,\n",
    "  \"improvement_surcharge\" NUMERIC,\n",
    "  \"total_amount\" NUMERIC,\n",
    "  \"pickup_OBJECTID\" TEXT,\n",
    "  \"pickup_Shape_Leng\" NUMERIC,\n",
    "  \"pickup_Shape_Area\" NUMERIC,\n",
    "  \"pickup_zone\" TEXT,\n",
    "  \"pickup_LocationID\" TEXT,\n",
    "  \"pickup_borough\" TEXT,\n",
    "  \"dropoff_OBJECTID\" TEXT,\n",
    "  \"dropoff_Shape_Leng\" NUMERIC,\n",
    "  \"dropoff_Shape_Area\" NUMERIC,\n",
    "  \"dropoff_zone\" TEXT,\n",
    "  \"dropoff_Location\" TEXT,\n",
    "  \"dropoff_borough\" TEXT\n",
    ");\n",
    ".import taxiJul_enh2.csv taxiJul\n",
    "\"\"\"\n",
    "print(commands)\n",
    "with open('CreateTableTaxiJul.sql', 'w') as f:\n",
    "  f.write(commands)\n"
   ]
  },
  {
   "cell_type": "code",
   "execution_count": null,
   "metadata": {
    "collapsed": false
   },
   "outputs": [],
   "source": [
    "%%time\n",
    "!sqlite3 taxiJul.db <CreateTableTaxiJul.sql"
   ]
  },
  {
   "cell_type": "code",
   "execution_count": null,
   "metadata": {
    "collapsed": false
   },
   "outputs": [],
   "source": [
    "%%time\n",
    "#Define the view\n",
    "commands=\"\"\".mode csv\n",
    ".headers on\n",
    "DROP VIEW taxiJulEnrich; \n",
    "CREATE VIEW taxiJulEnrich AS SELECT *,\n",
    "1 AS `count`,\n",
    "strftime('%Y',`tpep_pickup_datetime`) AS `pu_year`, \n",
    "strftime('%m',`tpep_pickup_datetime`) AS `pu_month`, \n",
    "strftime('%d',`tpep_pickup_datetime`) AS `pu_day`, \n",
    "strftime('%H',`tpep_pickup_datetime`) AS `pu_hour`, \n",
    "strftime('%M',`tpep_pickup_datetime`) AS `pu_minute`, \n",
    "strftime('%S',`tpep_pickup_datetime`) AS `pu_second`, \n",
    "strftime('%w',`tpep_pickup_datetime`) AS `pu_weekday`,\n",
    "strftime('%Y',`tpep_dropoff_datetime`) AS `do_year`, \n",
    "strftime('%m',`tpep_dropoff_datetime`) AS `do_month`, \n",
    "strftime('%d',`tpep_dropoff_datetime`) AS `do_day`, \n",
    "strftime('%H',`tpep_dropoff_datetime`) AS `do_hour`, \n",
    "strftime('%M',`tpep_dropoff_datetime`) AS `do_minute`, \n",
    "strftime('%S',`tpep_dropoff_datetime`) AS `do_second`, \n",
    "strftime('%w',`tpep_dropoff_datetime`) AS `do_weekday`,\n",
    "`pickup_latitude`||','||`pickup_longitude` AS `pu_latlong`\n",
    "FROM taxiJul; \n",
    "SELECT * from taxiJulEnrich LIMIT 10;\"\"\"\n",
    "print(commands)\n",
    "with open('CreateViewTaxiJulEnrich.sql', 'w') as f:\n",
    "  f.write(commands)\n"
   ]
  },
  {
   "cell_type": "code",
   "execution_count": null,
   "metadata": {
    "collapsed": false
   },
   "outputs": [],
   "source": [
    "%%time\n",
    "!sqlite3 taxiJul.db <CreateViewTaxiJulEnrich.sql"
   ]
  },
  {
   "cell_type": "code",
   "execution_count": null,
   "metadata": {
    "collapsed": false
   },
   "outputs": [],
   "source": [
    "%%time\n",
    "!sqlite3 taxiJul.db \"DROP TABLE `zones`;\"\n",
    "!ECHO .import taxi+_zone_lookup.csv zones>script.txt & sqlite3 -csv -header taxiJul.db <script.txt\n",
    "!sqlite3 -header taxiJul.db \"SELECT * FROM `zones`;\""
   ]
  },
  {
   "cell_type": "markdown",
   "metadata": {
    "collapsed": true
   },
   "source": [
    "# Prepare data for 01 Tourist/Resident Perspective"
   ]
  },
  {
   "cell_type": "code",
   "execution_count": null,
   "metadata": {
    "collapsed": false
   },
   "outputs": [],
   "source": [
    "!sqlite3 -header taxiJul.db \"EXPLAIN QUERY PLAN SELECT `dropoff_zone`,`do_day`,`do_weekday`,`do_hour`,sum(`count`) AS `ridecount`,avg(`tip_amount`),max(`tip_amount`),sum(`tip_amount`),avg(`total_amount`),max(`total_amount`),sum(`total_amount`) FROM taxiJulEnrich GROUP BY `dropoff_zone`,`do_day`,`do_weekday`,`do_hour`;\""
   ]
  },
  {
   "cell_type": "code",
   "execution_count": null,
   "metadata": {
    "collapsed": false
   },
   "outputs": [],
   "source": [
    "!sqlite3 taxiJul.db \"EXPLAIN QUERY PLAN CREATE INDEX `tourist` ON `taxiJul` (`dropoff_zone`,`do_day`,`do_weekday`,`do_hour`);\""
   ]
  },
  {
   "cell_type": "code",
   "execution_count": null,
   "metadata": {
    "collapsed": false
   },
   "outputs": [],
   "source": [
    "!sqlite3 -header taxiJul.db \"DROP TABLE `01_Tourist_Resident`; CREATE TABLE `01_Tourist_Resident` AS SELECT `dropoff_zone`,`dropoff_borough`,`do_day`,`do_weekday`,`do_hour`,sum(`count`) AS `ridecount`,avg(`tip_amount`),max(`tip_amount`),sum(`tip_amount`),avg(`total_amount`),max(`total_amount`),sum(`total_amount`) FROM taxiJulEnrich GROUP BY `dropoff_zone`,`dropoff_borough`,`do_day`,`do_weekday`,`do_hour`;\""
   ]
  },
  {
   "cell_type": "code",
   "execution_count": null,
   "metadata": {
    "collapsed": false
   },
   "outputs": [],
   "source": [
    "!sqlite3 -header taxiJul.db \"SELECT COUNT(*) FROM `01_Tourist_Resident`;\""
   ]
  },
  {
   "cell_type": "code",
   "execution_count": null,
   "metadata": {
    "collapsed": false
   },
   "outputs": [],
   "source": [
    "!sqlite3 -header taxiJul.db \"SELECT `dropoff_borough`,sum(`ridecount`) FROM `01_Tourist_Resident` GROUP BY `dropoff_borough`;\""
   ]
  },
  {
   "cell_type": "code",
   "execution_count": null,
   "metadata": {
    "collapsed": false
   },
   "outputs": [],
   "source": [
    "!echo .schema 01_Tourist_Resident >script.txt & sqlite3 taxiJul.db <script.txt"
   ]
  },
  {
   "cell_type": "code",
   "execution_count": null,
   "metadata": {
    "collapsed": true
   },
   "outputs": [],
   "source": []
  }
 ],
 "metadata": {
  "kernelspec": {
   "display_name": "Python 3",
   "language": "python",
   "name": "python3"
  },
  "language_info": {
   "codemirror_mode": {
    "name": "ipython",
    "version": 3
   },
   "file_extension": ".py",
   "mimetype": "text/x-python",
   "name": "python",
   "nbconvert_exporter": "python",
   "pygments_lexer": "ipython3",
   "version": "3.6.0"
  }
 },
 "nbformat": 4,
 "nbformat_minor": 2
}
