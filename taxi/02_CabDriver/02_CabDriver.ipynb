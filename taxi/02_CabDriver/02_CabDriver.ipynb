{
 "cells": [
  {
   "cell_type": "markdown",
   "metadata": {},
   "source": [
    "# 2 Cab Driver Perspective\n",
    "\n",
    "In this notebook, we will analyze the taxi data from the perspective of a cab driver who wants to maximize earnings and tips.\n",
    "\n",
    "From the cab driver's perspective, it is useful to know which pickup locations and times are best for maximizing earnings and tips, as well as give an idea of which dropoff locations the driver is likely to end up in.\n",
    "\n",
    "The first 4 steps are the same as before. After that, we will use additional fields for our analysis, including pickup locations, pickup times, and trip duration and earnings metrics"
   ]
  },
  {
   "cell_type": "code",
   "execution_count": 1,
   "metadata": {
    "collapsed": false
   },
   "outputs": [
    {
     "name": "stdout",
     "output_type": "stream",
     "text": [
      "Wall time: 2.93 s\n"
     ]
    }
   ],
   "source": [
    "%%time\n",
    "#We will import the necessary Python libraries in this step. The %%time command keeps track of the execution time for each step\n",
    "import sqlite3         # Provides powerful relational database query capabilities using the SQL language\n",
    "import pandas as pd    # Pandas provides a powerful DataFrame to manipulate and analyze tabular data in memory"
   ]
  },
  {
   "cell_type": "code",
   "execution_count": 2,
   "metadata": {
    "collapsed": false
   },
   "outputs": [
    {
     "name": "stdout",
     "output_type": "stream",
     "text": [
      "Wall time: 383 ms\n"
     ]
    }
   ],
   "source": [
    "%%time\n",
    "#We connect to a SQLite database. This database was prepared using the notebook \"00 Prepare Taxi Trip Data\"\n",
    "#We will examine the contents of this database by looking at the sqlite_master table\n",
    "cn = sqlite3.connect('../taxiJul.db')\n",
    "master = pd.read_sql_query(\"SELECT * from sqlite_master;\",cn)"
   ]
  },
  {
   "cell_type": "code",
   "execution_count": 3,
   "metadata": {
    "collapsed": false
   },
   "outputs": [
    {
     "data": {
      "text/html": [
       "<div>\n",
       "<table border=\"1\" class=\"dataframe\">\n",
       "  <thead>\n",
       "    <tr style=\"text-align: right;\">\n",
       "      <th></th>\n",
       "      <th>type</th>\n",
       "      <th>name</th>\n",
       "      <th>tbl_name</th>\n",
       "      <th>rootpage</th>\n",
       "      <th>sql</th>\n",
       "    </tr>\n",
       "  </thead>\n",
       "  <tbody>\n",
       "    <tr>\n",
       "      <th>0</th>\n",
       "      <td>table</td>\n",
       "      <td>distinct_pu_latlong</td>\n",
       "      <td>distinct_pu_latlong</td>\n",
       "      <td>3</td>\n",
       "      <td>CREATE TABLE distinct_pu_latlong(\\n  pu_latlon...</td>\n",
       "    </tr>\n",
       "    <tr>\n",
       "      <th>1</th>\n",
       "      <td>index</td>\n",
       "      <td>latlong</td>\n",
       "      <td>distinct_pu_latlong</td>\n",
       "      <td>2914013</td>\n",
       "      <td>CREATE INDEX latlong ON `distinct_pu_latlong` ...</td>\n",
       "    </tr>\n",
       "    <tr>\n",
       "      <th>2</th>\n",
       "      <td>table</td>\n",
       "      <td>taxiJul</td>\n",
       "      <td>taxiJul</td>\n",
       "      <td>2</td>\n",
       "      <td>CREATE TABLE taxiJul(\\n  \"VendorID\" TEXT,\\n  \"...</td>\n",
       "    </tr>\n",
       "    <tr>\n",
       "      <th>3</th>\n",
       "      <td>view</td>\n",
       "      <td>taxiJulEnrich</td>\n",
       "      <td>taxiJulEnrich</td>\n",
       "      <td>0</td>\n",
       "      <td>CREATE VIEW taxiJulEnrich AS SELECT *,\\n1 AS `...</td>\n",
       "    </tr>\n",
       "    <tr>\n",
       "      <th>4</th>\n",
       "      <td>table</td>\n",
       "      <td>zones</td>\n",
       "      <td>zones</td>\n",
       "      <td>1714273</td>\n",
       "      <td>CREATE TABLE zones(\\n  \"LocationID\" TEXT,\\n  \"...</td>\n",
       "    </tr>\n",
       "    <tr>\n",
       "      <th>5</th>\n",
       "      <td>table</td>\n",
       "      <td>01_Tourist_Resident</td>\n",
       "      <td>01_Tourist_Resident</td>\n",
       "      <td>3520136</td>\n",
       "      <td>CREATE TABLE \"01_Tourist_Resident\"(\\n  dropoff...</td>\n",
       "    </tr>\n",
       "  </tbody>\n",
       "</table>\n",
       "</div>"
      ],
      "text/plain": [
       "    type                 name             tbl_name  rootpage  \\\n",
       "0  table  distinct_pu_latlong  distinct_pu_latlong         3   \n",
       "1  index              latlong  distinct_pu_latlong   2914013   \n",
       "2  table              taxiJul              taxiJul         2   \n",
       "3   view        taxiJulEnrich        taxiJulEnrich         0   \n",
       "4  table                zones                zones   1714273   \n",
       "5  table  01_Tourist_Resident  01_Tourist_Resident   3520136   \n",
       "\n",
       "                                                 sql  \n",
       "0  CREATE TABLE distinct_pu_latlong(\\n  pu_latlon...  \n",
       "1  CREATE INDEX latlong ON `distinct_pu_latlong` ...  \n",
       "2  CREATE TABLE taxiJul(\\n  \"VendorID\" TEXT,\\n  \"...  \n",
       "3  CREATE VIEW taxiJulEnrich AS SELECT *,\\n1 AS `...  \n",
       "4  CREATE TABLE zones(\\n  \"LocationID\" TEXT,\\n  \"...  \n",
       "5  CREATE TABLE \"01_Tourist_Resident\"(\\n  dropoff...  "
      ]
     },
     "execution_count": 3,
     "metadata": {},
     "output_type": "execute_result"
    }
   ],
   "source": [
    "master"
   ]
  },
  {
   "cell_type": "code",
   "execution_count": 4,
   "metadata": {
    "collapsed": false
   },
   "outputs": [
    {
     "data": {
      "text/plain": [
       "Index(['VendorID', 'tpep_pickup_datetime', 'tpep_dropoff_datetime',\n",
       "       'passenger_count', 'trip_distance', 'pickup_longitude',\n",
       "       'pickup_latitude', 'RatecodeID', 'store_and_fwd_flag',\n",
       "       'dropoff_longitude', 'dropoff_latitude', 'payment_type', 'fare_amount',\n",
       "       'extra', 'mta_tax', 'tip_amount', 'tolls_amount',\n",
       "       'improvement_surcharge', 'total_amount', 'pickup_OBJECTID',\n",
       "       'pickup_Shape_Leng', 'pickup_Shape_Area', 'pickup_zone',\n",
       "       'pickup_LocationID', 'pickup_borough', 'dropoff_OBJECTID',\n",
       "       'dropoff_Shape_Leng', 'dropoff_Shape_Area', 'dropoff_zone',\n",
       "       'dropoff_Location', 'dropoff_borough', 'count', 'pu_year', 'pu_month',\n",
       "       'pu_day', 'pu_hour', 'pu_minute', 'pu_second', 'pu_weekday', 'do_year',\n",
       "       'do_month', 'do_day', 'do_hour', 'do_minute', 'do_second', 'do_weekday',\n",
       "       'pu_latlong'],\n",
       "      dtype='object')"
      ]
     },
     "execution_count": 4,
     "metadata": {},
     "output_type": "execute_result"
    }
   ],
   "source": [
    "#We are interested in the taxiJulEnrich view\n",
    "#Read the first row of this view to examine the columns available\n",
    "sample = pd.read_sql_query(\"SELECT * from taxiJulEnrich LIMIT 2;\",cn)\n",
    "sample.columns"
   ]
  },
  {
   "cell_type": "code",
   "execution_count": 5,
   "metadata": {
    "collapsed": false
   },
   "outputs": [
    {
     "name": "stdout",
     "output_type": "stream",
     "text": [
      "Wall time: 1min 30s\n"
     ]
    }
   ],
   "source": [
    "%%time\n",
    "#In this step, we use SQLite to group the taxi trips by pickup zone, pickup time, and dropoff zone and return the counts and summary tips/fares\n",
    "#Note that the original data set does not contain trip durations. \n",
    "#\n",
    "#We will calculate trip duration in minutes by subtracting the pickup time from the dropoff time\n",
    "#Due to the large size of the dataset (11 million+ records), it is more efficient to process using SQLite rather than \n",
    "#load everything into memory\n",
    "#We calculate the number of trips by dropoff zone, weekday and hour, and sort the results in descending order\n",
    "df = pd.read_sql_query(\"SELECT `pickup_zone`, `pu_weekday`, `pu_hour`, `dropoff_zone`, SUM((julianday(`tpep_dropoff_datetime`) - julianday(`tpep_pickup_datetime`))*24*60) AS `tripduration_minutes`, SUM(`count`) AS `ridecount`, SUM(`tip_amount`) AS `sum_tip_amount`, SUM(`total_amount`) AS `sum_total_amount` FROM taxiJulEnrich GROUP BY `pickup_zone`, `pu_weekday`, `pu_hour`, `dropoff_zone` ORDER BY `ridecount` DESC;\", cn)"
   ]
  },
  {
   "cell_type": "code",
   "execution_count": 6,
   "metadata": {
    "collapsed": false
   },
   "outputs": [
    {
     "data": {
      "text/html": [
       "<div>\n",
       "<table border=\"1\" class=\"dataframe\">\n",
       "  <thead>\n",
       "    <tr style=\"text-align: right;\">\n",
       "      <th></th>\n",
       "      <th>pickup_zone</th>\n",
       "      <th>pu_weekday</th>\n",
       "      <th>pu_hour</th>\n",
       "      <th>dropoff_zone</th>\n",
       "      <th>tripduration_minutes</th>\n",
       "      <th>ridecount</th>\n",
       "      <th>sum_tip_amount</th>\n",
       "      <th>sum_total_amount</th>\n",
       "    </tr>\n",
       "  </thead>\n",
       "  <tbody>\n",
       "    <tr>\n",
       "      <th>0</th>\n",
       "      <td>Penn Station/Madison Sq West</td>\n",
       "      <td>4</td>\n",
       "      <td>07</td>\n",
       "      <td>Midtown Center</td>\n",
       "      <td>7027.883340</td>\n",
       "      <td>768</td>\n",
       "      <td>806.41</td>\n",
       "      <td>7431.81</td>\n",
       "    </tr>\n",
       "    <tr>\n",
       "      <th>1</th>\n",
       "      <td>Penn Station/Madison Sq West</td>\n",
       "      <td>3</td>\n",
       "      <td>07</td>\n",
       "      <td>Midtown Center</td>\n",
       "      <td>6794.200014</td>\n",
       "      <td>763</td>\n",
       "      <td>803.50</td>\n",
       "      <td>7284.90</td>\n",
       "    </tr>\n",
       "    <tr>\n",
       "      <th>2</th>\n",
       "      <td>Upper East Side South</td>\n",
       "      <td>3</td>\n",
       "      <td>08</td>\n",
       "      <td>Midtown East</td>\n",
       "      <td>8257.566678</td>\n",
       "      <td>762</td>\n",
       "      <td>853.68</td>\n",
       "      <td>7749.88</td>\n",
       "    </tr>\n",
       "    <tr>\n",
       "      <th>3</th>\n",
       "      <td>Upper East Side South</td>\n",
       "      <td>3</td>\n",
       "      <td>14</td>\n",
       "      <td>Upper East Side North</td>\n",
       "      <td>5851.283344</td>\n",
       "      <td>749</td>\n",
       "      <td>543.30</td>\n",
       "      <td>5715.90</td>\n",
       "    </tr>\n",
       "    <tr>\n",
       "      <th>4</th>\n",
       "      <td>Upper East Side North</td>\n",
       "      <td>3</td>\n",
       "      <td>12</td>\n",
       "      <td>Upper East Side South</td>\n",
       "      <td>8323.500002</td>\n",
       "      <td>729</td>\n",
       "      <td>685.84</td>\n",
       "      <td>7186.04</td>\n",
       "    </tr>\n",
       "  </tbody>\n",
       "</table>\n",
       "</div>"
      ],
      "text/plain": [
       "                    pickup_zone pu_weekday pu_hour           dropoff_zone  \\\n",
       "0  Penn Station/Madison Sq West          4      07         Midtown Center   \n",
       "1  Penn Station/Madison Sq West          3      07         Midtown Center   \n",
       "2         Upper East Side South          3      08           Midtown East   \n",
       "3         Upper East Side South          3      14  Upper East Side North   \n",
       "4         Upper East Side North          3      12  Upper East Side South   \n",
       "\n",
       "   tripduration_minutes  ridecount  sum_tip_amount  sum_total_amount  \n",
       "0           7027.883340        768          806.41           7431.81  \n",
       "1           6794.200014        763          803.50           7284.90  \n",
       "2           8257.566678        762          853.68           7749.88  \n",
       "3           5851.283344        749          543.30           5715.90  \n",
       "4           8323.500002        729          685.84           7186.04  "
      ]
     },
     "execution_count": 6,
     "metadata": {},
     "output_type": "execute_result"
    }
   ],
   "source": [
    "df.head()"
   ]
  },
  {
   "cell_type": "code",
   "execution_count": 7,
   "metadata": {
    "collapsed": false
   },
   "outputs": [
    {
     "name": "stdout",
     "output_type": "stream",
     "text": [
      "Wall time: 1.39 s\n"
     ]
    }
   ],
   "source": [
    "%%time\n",
    "#In this step, we make the data more user-friendly and useful for analysis\n",
    "#Firstly, Weekday numbers (eg. 1) are converted to strings (eg. Monday)\n",
    "#Secondly, hours are converted from string to numbers\n",
    "#Thirdly, we calculate average ride duration, average tip per minute and average amount per minute\n",
    "df['pu_weekday'] = df['pu_weekday'].replace('0','Sunday')\n",
    "df['pu_weekday'] = df['pu_weekday'].replace('1','Monday')\n",
    "df['pu_weekday'] = df['pu_weekday'].replace('2','Tuesday')\n",
    "df['pu_weekday'] = df['pu_weekday'].replace('3','Wednesday')\n",
    "df['pu_weekday'] = df['pu_weekday'].replace('4','Thursday')\n",
    "df['pu_weekday'] = df['pu_weekday'].replace('5','Friday')\n",
    "df['pu_weekday'] = df['pu_weekday'].replace('6','Saturday')\n",
    "df['pu_hour'] = pd.to_numeric(df['pu_hour'])\n",
    "df['avg_tripduration_minutes'] = df['tripduration_minutes'] / df['ridecount']\n",
    "df['avg_tip_perminute'] = df['sum_tip_amount'] / df['ridecount'] / df['avg_tripduration_minutes']\n",
    "df['avg_amount_perminute'] = df['sum_total_amount'] / df['ridecount'] / df['avg_tripduration_minutes']"
   ]
  },
  {
   "cell_type": "code",
   "execution_count": 8,
   "metadata": {
    "collapsed": false
   },
   "outputs": [
    {
     "data": {
      "text/html": [
       "<div>\n",
       "<table border=\"1\" class=\"dataframe\">\n",
       "  <thead>\n",
       "    <tr style=\"text-align: right;\">\n",
       "      <th></th>\n",
       "      <th>pickup_zone</th>\n",
       "      <th>pu_weekday</th>\n",
       "      <th>pu_hour</th>\n",
       "      <th>dropoff_zone</th>\n",
       "      <th>tripduration_minutes</th>\n",
       "      <th>ridecount</th>\n",
       "      <th>sum_tip_amount</th>\n",
       "      <th>sum_total_amount</th>\n",
       "      <th>avg_tripduration_minutes</th>\n",
       "      <th>avg_tip_perminute</th>\n",
       "      <th>avg_amount_perminute</th>\n",
       "    </tr>\n",
       "  </thead>\n",
       "  <tbody>\n",
       "    <tr>\n",
       "      <th>0</th>\n",
       "      <td>Penn Station/Madison Sq West</td>\n",
       "      <td>Thursday</td>\n",
       "      <td>7.0</td>\n",
       "      <td>Midtown Center</td>\n",
       "      <td>7027.883340</td>\n",
       "      <td>768</td>\n",
       "      <td>806.41</td>\n",
       "      <td>7431.81</td>\n",
       "      <td>9.150890</td>\n",
       "      <td>0.114744</td>\n",
       "      <td>1.057475</td>\n",
       "    </tr>\n",
       "    <tr>\n",
       "      <th>1</th>\n",
       "      <td>Penn Station/Madison Sq West</td>\n",
       "      <td>Wednesday</td>\n",
       "      <td>7.0</td>\n",
       "      <td>Midtown Center</td>\n",
       "      <td>6794.200014</td>\n",
       "      <td>763</td>\n",
       "      <td>803.50</td>\n",
       "      <td>7284.90</td>\n",
       "      <td>8.904587</td>\n",
       "      <td>0.118263</td>\n",
       "      <td>1.072223</td>\n",
       "    </tr>\n",
       "    <tr>\n",
       "      <th>2</th>\n",
       "      <td>Upper East Side South</td>\n",
       "      <td>Wednesday</td>\n",
       "      <td>8.0</td>\n",
       "      <td>Midtown East</td>\n",
       "      <td>8257.566678</td>\n",
       "      <td>762</td>\n",
       "      <td>853.68</td>\n",
       "      <td>7749.88</td>\n",
       "      <td>10.836702</td>\n",
       "      <td>0.103382</td>\n",
       "      <td>0.938519</td>\n",
       "    </tr>\n",
       "    <tr>\n",
       "      <th>3</th>\n",
       "      <td>Upper East Side South</td>\n",
       "      <td>Wednesday</td>\n",
       "      <td>14.0</td>\n",
       "      <td>Upper East Side North</td>\n",
       "      <td>5851.283344</td>\n",
       "      <td>749</td>\n",
       "      <td>543.30</td>\n",
       "      <td>5715.90</td>\n",
       "      <td>7.812127</td>\n",
       "      <td>0.092851</td>\n",
       "      <td>0.976863</td>\n",
       "    </tr>\n",
       "    <tr>\n",
       "      <th>4</th>\n",
       "      <td>Upper East Side North</td>\n",
       "      <td>Wednesday</td>\n",
       "      <td>12.0</td>\n",
       "      <td>Upper East Side South</td>\n",
       "      <td>8323.500002</td>\n",
       "      <td>729</td>\n",
       "      <td>685.84</td>\n",
       "      <td>7186.04</td>\n",
       "      <td>11.417695</td>\n",
       "      <td>0.082398</td>\n",
       "      <td>0.863344</td>\n",
       "    </tr>\n",
       "  </tbody>\n",
       "</table>\n",
       "</div>"
      ],
      "text/plain": [
       "                    pickup_zone pu_weekday  pu_hour           dropoff_zone  \\\n",
       "0  Penn Station/Madison Sq West   Thursday      7.0         Midtown Center   \n",
       "1  Penn Station/Madison Sq West  Wednesday      7.0         Midtown Center   \n",
       "2         Upper East Side South  Wednesday      8.0           Midtown East   \n",
       "3         Upper East Side South  Wednesday     14.0  Upper East Side North   \n",
       "4         Upper East Side North  Wednesday     12.0  Upper East Side South   \n",
       "\n",
       "   tripduration_minutes  ridecount  sum_tip_amount  sum_total_amount  \\\n",
       "0           7027.883340        768          806.41           7431.81   \n",
       "1           6794.200014        763          803.50           7284.90   \n",
       "2           8257.566678        762          853.68           7749.88   \n",
       "3           5851.283344        749          543.30           5715.90   \n",
       "4           8323.500002        729          685.84           7186.04   \n",
       "\n",
       "   avg_tripduration_minutes  avg_tip_perminute  avg_amount_perminute  \n",
       "0                  9.150890           0.114744              1.057475  \n",
       "1                  8.904587           0.118263              1.072223  \n",
       "2                 10.836702           0.103382              0.938519  \n",
       "3                  7.812127           0.092851              0.976863  \n",
       "4                 11.417695           0.082398              0.863344  "
      ]
     },
     "execution_count": 8,
     "metadata": {},
     "output_type": "execute_result"
    }
   ],
   "source": [
    "df.head()"
   ]
  },
  {
   "cell_type": "code",
   "execution_count": 9,
   "metadata": {
    "collapsed": false
   },
   "outputs": [
    {
     "name": "stdout",
     "output_type": "stream",
     "text": [
      "Wall time: 20.3 s\n"
     ]
    }
   ],
   "source": [
    "%%time\n",
    "#We now export our dataset to a CSV file. This file will be used by Excel and Tableau for further analysis and visualization\n",
    "df.to_csv('02_Cabdriver.csv', index_label='ROWID')"
   ]
  },
  {
   "cell_type": "markdown",
   "metadata": {},
   "source": [
    "### Most Lucrative Pickup Zones\n",
    "\n",
    "Where in New York City can a cab driver earn the most tips, and get the highest value fares? As expected, the airports top the list. However, did you know that LaGuardia airport is more lucrative than JFK airport? \n",
    "\n",
    "The below chart was created using the Microsoft Excel workbook stored [here](02_CabDriver.xlsx)\n",
    "\n",
    "This workbook contains a dynamic link to the CSV file created in the previous step. You can use Pivot Tables in Excel to further explore the dataset yourself.\n",
    "\n",
    "![Top 15 Pickup Zones With The Maximum Tips](Top15PickupZonesWithMaxTips.png \"Top 15 Pickup Zones With The Maximum Tips\")\n",
    "\n",
    "What if you looked at it from the perspective of tips earned in cents per minute? This provides the best ROI for the cab driver's time. Based on this metric, a different picture emerges for the Top 15 pickup locations. It turns out that New York yellow cab drivers can earn a lot of tips by picking passengers from Newark airport!\n",
    "\n",
    "![Top 15 Pickup Zones Based on Tips (Cents Per Minute)](Top15TipsCentsPerMinute.png \"Top 15 Pickup Zones Based on Tips (Cents Per Minute)\")"
   ]
  },
  {
   "cell_type": "markdown",
   "metadata": {},
   "source": [
    "## Interactive Visualization In Tableau\n",
    "\n",
    "The following interactive visualization was created using Tableau Public. It is also based on the same CSV file created above. Be sure to click on the link below to explore the visualization.\n",
    "\n",
    "[Pickup Zones With Max Tips](https://public.tableau.com/profile/vijay.balasubramaniam#!/vizhome/02_CabDriver/PickupZonesWithMaxTips) - The most tips are earned at LaGuardia and JFK airports, as indicated by the bubble sizes. The bubble colors indicate the number of rides (darker = more rides)\n",
    "\n",
    "This visualization was created in Tableau as follows:\n",
    "```\n",
    "Marks: Circle\n",
    "Labels: Pickup Zone\n",
    "Colors: SUM(Ridecount)\n",
    "Color Palette: Automatic\n",
    "Size: SUM(Tips)\n",
    "Detail: MEDIAN(Avg Trip Duration), MEDIAN(Total Amount), MEDIAN(Tip Amount)\n",
    "```\n",
    "\n",
    "Note that Tableau Public is a free tool, and you can download the Tableau workbook using the above links and explore on your own if you wish."
   ]
  }
 ],
 "metadata": {
  "kernelspec": {
   "display_name": "Python 3",
   "language": "python",
   "name": "python3"
  },
  "language_info": {
   "codemirror_mode": {
    "name": "ipython",
    "version": 3
   },
   "file_extension": ".py",
   "mimetype": "text/x-python",
   "name": "python",
   "nbconvert_exporter": "python",
   "pygments_lexer": "ipython3",
   "version": "3.6.0"
  }
 },
 "nbformat": 4,
 "nbformat_minor": 2
}
