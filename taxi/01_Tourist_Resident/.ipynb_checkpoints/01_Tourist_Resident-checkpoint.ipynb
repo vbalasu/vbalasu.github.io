{
 "cells": [
  {
   "cell_type": "markdown",
   "metadata": {},
   "source": [
    "# Tourist or Resident Perspective\n",
    "\n",
    "In this notebook, we will analyze the taxi data from the perspective of a tourist or resident who wants to explore interesting parts of the city.\n",
    "\n",
    "Taxi dropoffs are used as a proxy for the \"popularity\" of a given location. We will rank-order the taxi zones contained in the data by popularity at various times of the day and week.\n",
    "\n",
    "Then, we will use machine learning to discover hotspots of activity. This will be achieved by applying a clustering algorithm (unsupervised learning) to Latitude and Longitude information contained in the data."
   ]
  },
  {
   "cell_type": "code",
   "execution_count": 1,
   "metadata": {
    "collapsed": false
   },
   "outputs": [
    {
     "name": "stdout",
     "output_type": "stream",
     "text": [
      "Wall time: 1.69 s\n"
     ]
    }
   ],
   "source": [
    "%%time\n",
    "#We will import the necessary Python libraries in this step. The %%time command keeps track of the execution time for each step\n",
    "import sqlite3         # Provides powerful relational database query capabilities using the SQL language\n",
    "import pandas as pd    # Pandas provides a powerful DataFrame to manipulate and analyze tabular data in memory"
   ]
  },
  {
   "cell_type": "code",
   "execution_count": 2,
   "metadata": {
    "collapsed": false
   },
   "outputs": [
    {
     "name": "stdout",
     "output_type": "stream",
     "text": [
      "Wall time: 251 ms\n"
     ]
    }
   ],
   "source": [
    "%%time\n",
    "#We connect to a SQLite database. This database was prepared using the notebook \"00 Prepare Taxi Trip Data\"\n",
    "#We will examine the contents of this database by looking at the sqlite_master table\n",
    "cn = sqlite3.connect('../taxiJul.db')\n",
    "master = pd.read_sql_query(\"SELECT * from sqlite_master;\",cn)"
   ]
  },
  {
   "cell_type": "code",
   "execution_count": 3,
   "metadata": {
    "collapsed": false
   },
   "outputs": [
    {
     "data": {
      "text/html": [
       "<div>\n",
       "<table border=\"1\" class=\"dataframe\">\n",
       "  <thead>\n",
       "    <tr style=\"text-align: right;\">\n",
       "      <th></th>\n",
       "      <th>type</th>\n",
       "      <th>name</th>\n",
       "      <th>tbl_name</th>\n",
       "      <th>rootpage</th>\n",
       "      <th>sql</th>\n",
       "    </tr>\n",
       "  </thead>\n",
       "  <tbody>\n",
       "    <tr>\n",
       "      <th>0</th>\n",
       "      <td>table</td>\n",
       "      <td>distinct_pu_latlong</td>\n",
       "      <td>distinct_pu_latlong</td>\n",
       "      <td>3</td>\n",
       "      <td>CREATE TABLE distinct_pu_latlong(\\n  pu_latlon...</td>\n",
       "    </tr>\n",
       "    <tr>\n",
       "      <th>1</th>\n",
       "      <td>index</td>\n",
       "      <td>latlong</td>\n",
       "      <td>distinct_pu_latlong</td>\n",
       "      <td>2914013</td>\n",
       "      <td>CREATE INDEX latlong ON `distinct_pu_latlong` ...</td>\n",
       "    </tr>\n",
       "    <tr>\n",
       "      <th>2</th>\n",
       "      <td>table</td>\n",
       "      <td>taxiJul</td>\n",
       "      <td>taxiJul</td>\n",
       "      <td>2</td>\n",
       "      <td>CREATE TABLE taxiJul(\\n  \"VendorID\" TEXT,\\n  \"...</td>\n",
       "    </tr>\n",
       "    <tr>\n",
       "      <th>3</th>\n",
       "      <td>view</td>\n",
       "      <td>taxiJulEnrich</td>\n",
       "      <td>taxiJulEnrich</td>\n",
       "      <td>0</td>\n",
       "      <td>CREATE VIEW taxiJulEnrich AS SELECT *,\\n1 AS `...</td>\n",
       "    </tr>\n",
       "    <tr>\n",
       "      <th>4</th>\n",
       "      <td>table</td>\n",
       "      <td>zones</td>\n",
       "      <td>zones</td>\n",
       "      <td>1714273</td>\n",
       "      <td>CREATE TABLE zones(\\n  \"LocationID\" TEXT,\\n  \"...</td>\n",
       "    </tr>\n",
       "    <tr>\n",
       "      <th>5</th>\n",
       "      <td>table</td>\n",
       "      <td>01_Tourist_Resident</td>\n",
       "      <td>01_Tourist_Resident</td>\n",
       "      <td>3520136</td>\n",
       "      <td>CREATE TABLE \"01_Tourist_Resident\"(\\n  dropoff...</td>\n",
       "    </tr>\n",
       "  </tbody>\n",
       "</table>\n",
       "</div>"
      ],
      "text/plain": [
       "    type                 name             tbl_name  rootpage  \\\n",
       "0  table  distinct_pu_latlong  distinct_pu_latlong         3   \n",
       "1  index              latlong  distinct_pu_latlong   2914013   \n",
       "2  table              taxiJul              taxiJul         2   \n",
       "3   view        taxiJulEnrich        taxiJulEnrich         0   \n",
       "4  table                zones                zones   1714273   \n",
       "5  table  01_Tourist_Resident  01_Tourist_Resident   3520136   \n",
       "\n",
       "                                                 sql  \n",
       "0  CREATE TABLE distinct_pu_latlong(\\n  pu_latlon...  \n",
       "1  CREATE INDEX latlong ON `distinct_pu_latlong` ...  \n",
       "2  CREATE TABLE taxiJul(\\n  \"VendorID\" TEXT,\\n  \"...  \n",
       "3  CREATE VIEW taxiJulEnrich AS SELECT *,\\n1 AS `...  \n",
       "4  CREATE TABLE zones(\\n  \"LocationID\" TEXT,\\n  \"...  \n",
       "5  CREATE TABLE \"01_Tourist_Resident\"(\\n  dropoff...  "
      ]
     },
     "execution_count": 3,
     "metadata": {},
     "output_type": "execute_result"
    }
   ],
   "source": [
    "master"
   ]
  },
  {
   "cell_type": "code",
   "execution_count": 4,
   "metadata": {
    "collapsed": false
   },
   "outputs": [
    {
     "data": {
      "text/plain": [
       "Index(['VendorID', 'tpep_pickup_datetime', 'tpep_dropoff_datetime',\n",
       "       'passenger_count', 'trip_distance', 'pickup_longitude',\n",
       "       'pickup_latitude', 'RatecodeID', 'store_and_fwd_flag',\n",
       "       'dropoff_longitude', 'dropoff_latitude', 'payment_type', 'fare_amount',\n",
       "       'extra', 'mta_tax', 'tip_amount', 'tolls_amount',\n",
       "       'improvement_surcharge', 'total_amount', 'pickup_OBJECTID',\n",
       "       'pickup_Shape_Leng', 'pickup_Shape_Area', 'pickup_zone',\n",
       "       'pickup_LocationID', 'pickup_borough', 'dropoff_OBJECTID',\n",
       "       'dropoff_Shape_Leng', 'dropoff_Shape_Area', 'dropoff_zone',\n",
       "       'dropoff_Location', 'dropoff_borough', 'count', 'pu_year', 'pu_month',\n",
       "       'pu_day', 'pu_hour', 'pu_minute', 'pu_second', 'pu_weekday', 'do_year',\n",
       "       'do_month', 'do_day', 'do_hour', 'do_minute', 'do_second', 'do_weekday',\n",
       "       'pu_latlong'],\n",
       "      dtype='object')"
      ]
     },
     "execution_count": 4,
     "metadata": {},
     "output_type": "execute_result"
    }
   ],
   "source": [
    "#We are interested in the taxiJulEnrich view\n",
    "#Read the first row of this view to examine the columns available\n",
    "sample = pd.read_sql_query(\"SELECT * from taxiJulEnrich LIMIT 1;\",cn)\n",
    "sample.columns"
   ]
  },
  {
   "cell_type": "code",
   "execution_count": null,
   "metadata": {
    "collapsed": false
   },
   "outputs": [],
   "source": [
    "%%time\n",
    "#In this step, we use SQLite to group the taxi trips by dropoff zone, and return the counts\n",
    "#Due to the large size of the dataset (11 million+ records), it is more efficient to process using SQLite rather than \n",
    "#load everything into memory\n",
    "#We calculate the number of trips by dropoff zone, weekday and hour, and sort the results in descending order\n",
    "df = pd.read_sql_query(\"SELECT `dropoff_zone`, `do_weekday`, `do_hour`, SUM(`count`) AS `ridecount` FROM taxiJulEnrich GROUP BY `dropoff_zone`, `do_weekday`, `do_hour` ORDER BY `ridecount` DESC;\", cn)"
   ]
  },
  {
   "cell_type": "code",
   "execution_count": 49,
   "metadata": {
    "collapsed": false
   },
   "outputs": [
    {
     "data": {
      "text/html": [
       "<div>\n",
       "<table border=\"1\" class=\"dataframe\">\n",
       "  <thead>\n",
       "    <tr style=\"text-align: right;\">\n",
       "      <th></th>\n",
       "      <th>dropoff_zone</th>\n",
       "      <th>do_weekday</th>\n",
       "      <th>do_hour</th>\n",
       "      <th>ridecount</th>\n",
       "    </tr>\n",
       "  </thead>\n",
       "  <tbody>\n",
       "    <tr>\n",
       "      <th>0</th>\n",
       "      <td>Midtown Center</td>\n",
       "      <td>3</td>\n",
       "      <td>07</td>\n",
       "      <td>10075</td>\n",
       "    </tr>\n",
       "    <tr>\n",
       "      <th>1</th>\n",
       "      <td>Midtown Center</td>\n",
       "      <td>4</td>\n",
       "      <td>07</td>\n",
       "      <td>9825</td>\n",
       "    </tr>\n",
       "    <tr>\n",
       "      <th>2</th>\n",
       "      <td>Midtown Center</td>\n",
       "      <td>3</td>\n",
       "      <td>08</td>\n",
       "      <td>9466</td>\n",
       "    </tr>\n",
       "    <tr>\n",
       "      <th>3</th>\n",
       "      <td>Midtown Center</td>\n",
       "      <td>4</td>\n",
       "      <td>08</td>\n",
       "      <td>9289</td>\n",
       "    </tr>\n",
       "    <tr>\n",
       "      <th>4</th>\n",
       "      <td>Midtown Center</td>\n",
       "      <td>3</td>\n",
       "      <td>09</td>\n",
       "      <td>7932</td>\n",
       "    </tr>\n",
       "    <tr>\n",
       "      <th>5</th>\n",
       "      <td>Midtown Center</td>\n",
       "      <td>2</td>\n",
       "      <td>07</td>\n",
       "      <td>7920</td>\n",
       "    </tr>\n",
       "    <tr>\n",
       "      <th>6</th>\n",
       "      <td>Midtown East</td>\n",
       "      <td>3</td>\n",
       "      <td>08</td>\n",
       "      <td>7603</td>\n",
       "    </tr>\n",
       "    <tr>\n",
       "      <th>7</th>\n",
       "      <td>Midtown Center</td>\n",
       "      <td>4</td>\n",
       "      <td>09</td>\n",
       "      <td>7515</td>\n",
       "    </tr>\n",
       "    <tr>\n",
       "      <th>8</th>\n",
       "      <td>Midtown East</td>\n",
       "      <td>3</td>\n",
       "      <td>07</td>\n",
       "      <td>7372</td>\n",
       "    </tr>\n",
       "    <tr>\n",
       "      <th>9</th>\n",
       "      <td>Midtown Center</td>\n",
       "      <td>2</td>\n",
       "      <td>08</td>\n",
       "      <td>7367</td>\n",
       "    </tr>\n",
       "    <tr>\n",
       "      <th>10</th>\n",
       "      <td>Midtown East</td>\n",
       "      <td>4</td>\n",
       "      <td>08</td>\n",
       "      <td>7291</td>\n",
       "    </tr>\n",
       "    <tr>\n",
       "      <th>11</th>\n",
       "      <td>Midtown Center</td>\n",
       "      <td>1</td>\n",
       "      <td>07</td>\n",
       "      <td>7282</td>\n",
       "    </tr>\n",
       "    <tr>\n",
       "      <th>12</th>\n",
       "      <td>Midtown Center</td>\n",
       "      <td>5</td>\n",
       "      <td>08</td>\n",
       "      <td>7244</td>\n",
       "    </tr>\n",
       "    <tr>\n",
       "      <th>13</th>\n",
       "      <td>Midtown Center</td>\n",
       "      <td>5</td>\n",
       "      <td>07</td>\n",
       "      <td>7219</td>\n",
       "    </tr>\n",
       "    <tr>\n",
       "      <th>14</th>\n",
       "      <td>Midtown East</td>\n",
       "      <td>4</td>\n",
       "      <td>07</td>\n",
       "      <td>7163</td>\n",
       "    </tr>\n",
       "    <tr>\n",
       "      <th>15</th>\n",
       "      <td>Midtown Center</td>\n",
       "      <td>1</td>\n",
       "      <td>08</td>\n",
       "      <td>6763</td>\n",
       "    </tr>\n",
       "    <tr>\n",
       "      <th>16</th>\n",
       "      <td>Times Sq/Theatre District</td>\n",
       "      <td>5</td>\n",
       "      <td>19</td>\n",
       "      <td>6142</td>\n",
       "    </tr>\n",
       "    <tr>\n",
       "      <th>17</th>\n",
       "      <td>Midtown Center</td>\n",
       "      <td>2</td>\n",
       "      <td>09</td>\n",
       "      <td>6130</td>\n",
       "    </tr>\n",
       "    <tr>\n",
       "      <th>18</th>\n",
       "      <td>Midtown Center</td>\n",
       "      <td>3</td>\n",
       "      <td>10</td>\n",
       "      <td>6098</td>\n",
       "    </tr>\n",
       "    <tr>\n",
       "      <th>19</th>\n",
       "      <td>Midtown Center</td>\n",
       "      <td>5</td>\n",
       "      <td>09</td>\n",
       "      <td>6018</td>\n",
       "    </tr>\n",
       "  </tbody>\n",
       "</table>\n",
       "</div>"
      ],
      "text/plain": [
       "                 dropoff_zone do_weekday do_hour  ridecount\n",
       "0              Midtown Center          3      07      10075\n",
       "1              Midtown Center          4      07       9825\n",
       "2              Midtown Center          3      08       9466\n",
       "3              Midtown Center          4      08       9289\n",
       "4              Midtown Center          3      09       7932\n",
       "5              Midtown Center          2      07       7920\n",
       "6                Midtown East          3      08       7603\n",
       "7              Midtown Center          4      09       7515\n",
       "8                Midtown East          3      07       7372\n",
       "9              Midtown Center          2      08       7367\n",
       "10               Midtown East          4      08       7291\n",
       "11             Midtown Center          1      07       7282\n",
       "12             Midtown Center          5      08       7244\n",
       "13             Midtown Center          5      07       7219\n",
       "14               Midtown East          4      07       7163\n",
       "15             Midtown Center          1      08       6763\n",
       "16  Times Sq/Theatre District          5      19       6142\n",
       "17             Midtown Center          2      09       6130\n",
       "18             Midtown Center          3      10       6098\n",
       "19             Midtown Center          5      09       6018"
      ]
     },
     "execution_count": 49,
     "metadata": {},
     "output_type": "execute_result"
    }
   ],
   "source": [
    "#Let's examine the first 20 rows of the results\n",
    "#We notice that Midtown Center is consistently the most popular destination zone\n",
    "#Weekdays are shown as numbers here, which are hard to read. We will convert them to text in the next step\n",
    "df.head(20)"
   ]
  },
  {
   "cell_type": "code",
   "execution_count": null,
   "metadata": {
    "collapsed": false
   },
   "outputs": [],
   "source": [
    "#In this step, we make the data more user-friendly and useful for analysis\n",
    "#Firstly, Weekday numbers (eg. 1) are converted to strings (eg. Monday)\n",
    "#Secondly, hours are converted from string to numbers\n",
    "df['do_weekday'] = df['do_weekday'].replace('0','Sunday')\n",
    "df['do_weekday'] = df['do_weekday'].replace('1','Monday')\n",
    "df['do_weekday'] = df['do_weekday'].replace('2','Tuesday')\n",
    "df['do_weekday'] = df['do_weekday'].replace('3','Wednesday')\n",
    "df['do_weekday'] = df['do_weekday'].replace('4','Thursday')\n",
    "df['do_weekday'] = df['do_weekday'].replace('5','Friday')\n",
    "df['do_weekday'] = df['do_weekday'].replace('6','Saturday')\n",
    "df['do_hour'] = pd.to_numeric(df['do_hour'])\n",
    "df"
   ]
  },
  {
   "cell_type": "code",
   "execution_count": 52,
   "metadata": {
    "collapsed": false
   },
   "outputs": [
    {
     "name": "stdout",
     "output_type": "stream",
     "text": [
      "Wall time: 204 ms\n"
     ]
    }
   ],
   "source": [
    "%%time\n",
    "#We now export our dataset to a CSV file. This file will be used by Excel and Tableau for further analysis and visualization\n",
    "df.to_csv('01_Tourist_Resident.csv', index_label='ROWID')\n"
   ]
  },
  {
   "cell_type": "markdown",
   "metadata": {},
   "source": [
    "### Most Popular Dropoff Zones\n",
    "\n",
    "Chart created using Microsoft Excel workbook stored [here](01_Tourist_Resident.xlsx)\n",
    "\n",
    "![Most Popular Dropoff Zones](01_Tourist_Resident/MostPopularDropoffZones.png \"Most Popular Zones\")"
   ]
  },
  {
   "cell_type": "code",
   "execution_count": null,
   "metadata": {
    "collapsed": true
   },
   "outputs": [],
   "source": []
  }
 ],
 "metadata": {
  "kernelspec": {
   "display_name": "Python 3",
   "language": "python",
   "name": "python3"
  },
  "language_info": {
   "codemirror_mode": {
    "name": "ipython",
    "version": 3
   },
   "file_extension": ".py",
   "mimetype": "text/x-python",
   "name": "python",
   "nbconvert_exporter": "python",
   "pygments_lexer": "ipython3",
   "version": "3.6.0"
  }
 },
 "nbformat": 4,
 "nbformat_minor": 2
}
